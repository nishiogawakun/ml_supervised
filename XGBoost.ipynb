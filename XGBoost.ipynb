{
 "cells": [
  {
   "cell_type": "markdown",
   "metadata": {},
   "source": [
    "# Template"
   ]
  },
  {
   "cell_type": "markdown",
   "metadata": {},
   "source": [
    "## Attempt 1"
   ]
  },
  {
   "cell_type": "code",
   "execution_count": 1,
   "metadata": {},
   "outputs": [
    {
     "name": "stdout",
     "output_type": "stream",
     "text": [
      "150\n",
      "4\n",
      "['setosa', 'versicolor', 'virginica']\n"
     ]
    }
   ],
   "source": [
    "from sklearn.datasets import load_iris\n",
    "\n",
    "iris = load_iris()\n",
    "\n",
    "numSamples, numFeatures = iris.data.shape\n",
    "print(numSamples)\n",
    "print(numFeatures)\n",
    "print(list(iris.target_names))"
   ]
  },
  {
   "cell_type": "markdown",
   "metadata": {},
   "source": [
    "Let's divide our data into 20% reserved for testing our model, and the remaining 80% to train it with. By withholding our test data, we can make sure we're evaluating its results based on new flowers it hasn't seen before. Typically we refer to our features (in this case, the petal sizes) as X, and the labels (in this case, the species) as y."
   ]
  },
  {
   "cell_type": "code",
   "execution_count": 2,
   "metadata": {},
   "outputs": [],
   "source": [
    "from sklearn.model_selection import train_test_split\n",
    "\n",
    "X_train, X_test, y_train, y_test = train_test_split(iris.data, iris.target, test_size=0.2, random_state=0)"
   ]
  },
  {
   "cell_type": "code",
   "execution_count": 3,
   "metadata": {},
   "outputs": [
    {
     "data": {
      "text/plain": [
       "(array([[6.4, 3.1, 5.5, 1.8],\n",
       "        [5.4, 3. , 4.5, 1.5],\n",
       "        [5.2, 3.5, 1.5, 0.2],\n",
       "        [6.1, 3. , 4.9, 1.8],\n",
       "        [6.4, 2.8, 5.6, 2.2],\n",
       "        [5.2, 2.7, 3.9, 1.4],\n",
       "        [5.7, 3.8, 1.7, 0.3],\n",
       "        [6. , 2.7, 5.1, 1.6],\n",
       "        [5.9, 3. , 4.2, 1.5],\n",
       "        [5.8, 2.6, 4. , 1.2],\n",
       "        [6.8, 3. , 5.5, 2.1],\n",
       "        [4.7, 3.2, 1.3, 0.2],\n",
       "        [6.9, 3.1, 5.1, 2.3],\n",
       "        [5. , 3.5, 1.6, 0.6],\n",
       "        [5.4, 3.7, 1.5, 0.2],\n",
       "        [5. , 2. , 3.5, 1. ],\n",
       "        [6.5, 3. , 5.5, 1.8],\n",
       "        [6.7, 3.3, 5.7, 2.5],\n",
       "        [6. , 2.2, 5. , 1.5],\n",
       "        [6.7, 2.5, 5.8, 1.8],\n",
       "        [5.6, 2.5, 3.9, 1.1],\n",
       "        [7.7, 3. , 6.1, 2.3],\n",
       "        [6.3, 3.3, 4.7, 1.6],\n",
       "        [5.5, 2.4, 3.8, 1.1],\n",
       "        [6.3, 2.7, 4.9, 1.8],\n",
       "        [6.3, 2.8, 5.1, 1.5],\n",
       "        [4.9, 2.5, 4.5, 1.7],\n",
       "        [6.3, 2.5, 5. , 1.9],\n",
       "        [7. , 3.2, 4.7, 1.4],\n",
       "        [6.5, 3. , 5.2, 2. ],\n",
       "        [6. , 3.4, 4.5, 1.6],\n",
       "        [4.8, 3.1, 1.6, 0.2],\n",
       "        [5.8, 2.7, 5.1, 1.9],\n",
       "        [5.6, 2.7, 4.2, 1.3],\n",
       "        [5.6, 2.9, 3.6, 1.3],\n",
       "        [5.5, 2.5, 4. , 1.3],\n",
       "        [6.1, 3. , 4.6, 1.4],\n",
       "        [7.2, 3.2, 6. , 1.8],\n",
       "        [5.3, 3.7, 1.5, 0.2],\n",
       "        [4.3, 3. , 1.1, 0.1],\n",
       "        [6.4, 2.7, 5.3, 1.9],\n",
       "        [5.7, 3. , 4.2, 1.2],\n",
       "        [5.4, 3.4, 1.7, 0.2],\n",
       "        [5.7, 4.4, 1.5, 0.4],\n",
       "        [6.9, 3.1, 4.9, 1.5],\n",
       "        [4.6, 3.1, 1.5, 0.2],\n",
       "        [5.9, 3. , 5.1, 1.8],\n",
       "        [5.1, 2.5, 3. , 1.1],\n",
       "        [4.6, 3.4, 1.4, 0.3],\n",
       "        [6.2, 2.2, 4.5, 1.5],\n",
       "        [7.2, 3.6, 6.1, 2.5],\n",
       "        [5.7, 2.9, 4.2, 1.3],\n",
       "        [4.8, 3. , 1.4, 0.1],\n",
       "        [7.1, 3. , 5.9, 2.1],\n",
       "        [6.9, 3.2, 5.7, 2.3],\n",
       "        [6.5, 3. , 5.8, 2.2],\n",
       "        [6.4, 2.8, 5.6, 2.1],\n",
       "        [5.1, 3.8, 1.6, 0.2],\n",
       "        [4.8, 3.4, 1.6, 0.2],\n",
       "        [6.5, 3.2, 5.1, 2. ],\n",
       "        [6.7, 3.3, 5.7, 2.1],\n",
       "        [4.5, 2.3, 1.3, 0.3],\n",
       "        [6.2, 3.4, 5.4, 2.3],\n",
       "        [4.9, 3. , 1.4, 0.2],\n",
       "        [5.7, 2.5, 5. , 2. ],\n",
       "        [6.9, 3.1, 5.4, 2.1],\n",
       "        [4.4, 3.2, 1.3, 0.2],\n",
       "        [5. , 3.6, 1.4, 0.2],\n",
       "        [7.2, 3. , 5.8, 1.6],\n",
       "        [5.1, 3.5, 1.4, 0.3],\n",
       "        [4.4, 3. , 1.3, 0.2],\n",
       "        [5.4, 3.9, 1.7, 0.4],\n",
       "        [5.5, 2.3, 4. , 1.3],\n",
       "        [6.8, 3.2, 5.9, 2.3],\n",
       "        [7.6, 3. , 6.6, 2.1],\n",
       "        [5.1, 3.5, 1.4, 0.2],\n",
       "        [4.9, 3.1, 1.5, 0.2],\n",
       "        [5.2, 3.4, 1.4, 0.2],\n",
       "        [5.7, 2.8, 4.5, 1.3],\n",
       "        [6.6, 3. , 4.4, 1.4],\n",
       "        [5. , 3.2, 1.2, 0.2],\n",
       "        [5.1, 3.3, 1.7, 0.5],\n",
       "        [6.4, 2.9, 4.3, 1.3],\n",
       "        [5.4, 3.4, 1.5, 0.4],\n",
       "        [7.7, 2.6, 6.9, 2.3],\n",
       "        [4.9, 2.4, 3.3, 1. ],\n",
       "        [7.9, 3.8, 6.4, 2. ],\n",
       "        [6.7, 3.1, 4.4, 1.4],\n",
       "        [5.2, 4.1, 1.5, 0.1],\n",
       "        [6. , 3. , 4.8, 1.8],\n",
       "        [5.8, 4. , 1.2, 0.2],\n",
       "        [7.7, 2.8, 6.7, 2. ],\n",
       "        [5.1, 3.8, 1.5, 0.3],\n",
       "        [4.7, 3.2, 1.6, 0.2],\n",
       "        [7.4, 2.8, 6.1, 1.9],\n",
       "        [5. , 3.3, 1.4, 0.2],\n",
       "        [6.3, 3.4, 5.6, 2.4],\n",
       "        [5.7, 2.8, 4.1, 1.3],\n",
       "        [5.8, 2.7, 3.9, 1.2],\n",
       "        [5.7, 2.6, 3.5, 1. ],\n",
       "        [6.4, 3.2, 5.3, 2.3],\n",
       "        [6.7, 3. , 5.2, 2.3],\n",
       "        [6.3, 2.5, 4.9, 1.5],\n",
       "        [6.7, 3. , 5. , 1.7],\n",
       "        [5. , 3. , 1.6, 0.2],\n",
       "        [5.5, 2.4, 3.7, 1. ],\n",
       "        [6.7, 3.1, 5.6, 2.4],\n",
       "        [5.8, 2.7, 5.1, 1.9],\n",
       "        [5.1, 3.4, 1.5, 0.2],\n",
       "        [6.6, 2.9, 4.6, 1.3],\n",
       "        [5.6, 3. , 4.1, 1.3],\n",
       "        [5.9, 3.2, 4.8, 1.8],\n",
       "        [6.3, 2.3, 4.4, 1.3],\n",
       "        [5.5, 3.5, 1.3, 0.2],\n",
       "        [5.1, 3.7, 1.5, 0.4],\n",
       "        [4.9, 3.1, 1.5, 0.1],\n",
       "        [6.3, 2.9, 5.6, 1.8],\n",
       "        [5.8, 2.7, 4.1, 1. ],\n",
       "        [7.7, 3.8, 6.7, 2.2],\n",
       "        [4.6, 3.2, 1.4, 0.2]]),\n",
       " array([[5.8, 2.8, 5.1, 2.4],\n",
       "        [6. , 2.2, 4. , 1. ],\n",
       "        [5.5, 4.2, 1.4, 0.2],\n",
       "        [7.3, 2.9, 6.3, 1.8],\n",
       "        [5. , 3.4, 1.5, 0.2],\n",
       "        [6.3, 3.3, 6. , 2.5],\n",
       "        [5. , 3.5, 1.3, 0.3],\n",
       "        [6.7, 3.1, 4.7, 1.5],\n",
       "        [6.8, 2.8, 4.8, 1.4],\n",
       "        [6.1, 2.8, 4. , 1.3],\n",
       "        [6.1, 2.6, 5.6, 1.4],\n",
       "        [6.4, 3.2, 4.5, 1.5],\n",
       "        [6.1, 2.8, 4.7, 1.2],\n",
       "        [6.5, 2.8, 4.6, 1.5],\n",
       "        [6.1, 2.9, 4.7, 1.4],\n",
       "        [4.9, 3.6, 1.4, 0.1],\n",
       "        [6. , 2.9, 4.5, 1.5],\n",
       "        [5.5, 2.6, 4.4, 1.2],\n",
       "        [4.8, 3. , 1.4, 0.3],\n",
       "        [5.4, 3.9, 1.3, 0.4],\n",
       "        [5.6, 2.8, 4.9, 2. ],\n",
       "        [5.6, 3. , 4.5, 1.5],\n",
       "        [4.8, 3.4, 1.9, 0.2],\n",
       "        [4.4, 2.9, 1.4, 0.2],\n",
       "        [6.2, 2.8, 4.8, 1.8],\n",
       "        [4.6, 3.6, 1. , 0.2],\n",
       "        [5.1, 3.8, 1.9, 0.4],\n",
       "        [6.2, 2.9, 4.3, 1.3],\n",
       "        [5. , 2.3, 3.3, 1. ],\n",
       "        [5. , 3.4, 1.6, 0.4]]),\n",
       " array([2, 1, 0, 2, 2, 1, 0, 1, 1, 1, 2, 0, 2, 0, 0, 1, 2, 2, 2, 2, 1, 2,\n",
       "        1, 1, 2, 2, 2, 2, 1, 2, 1, 0, 2, 1, 1, 1, 1, 2, 0, 0, 2, 1, 0, 0,\n",
       "        1, 0, 2, 1, 0, 1, 2, 1, 0, 2, 2, 2, 2, 0, 0, 2, 2, 0, 2, 0, 2, 2,\n",
       "        0, 0, 2, 0, 0, 0, 1, 2, 2, 0, 0, 0, 1, 1, 0, 0, 1, 0, 2, 1, 2, 1,\n",
       "        0, 2, 0, 2, 0, 0, 2, 0, 2, 1, 1, 1, 2, 2, 1, 1, 0, 1, 2, 2, 0, 1,\n",
       "        1, 1, 1, 0, 0, 0, 2, 1, 2, 0]),\n",
       " array([2, 1, 0, 2, 0, 2, 0, 1, 1, 1, 2, 1, 1, 1, 1, 0, 1, 1, 0, 0, 2, 1,\n",
       "        0, 0, 2, 0, 0, 1, 1, 0]))"
      ]
     },
     "execution_count": 3,
     "metadata": {},
     "output_type": "execute_result"
    }
   ],
   "source": [
    "X_train, X_test, y_train, y_test"
   ]
  },
  {
   "cell_type": "markdown",
   "metadata": {},
   "source": [
    "Now we'll load up XGBoost, and convert our data into the DMatrix format it expects. One for the training data, and one for the test data."
   ]
  },
  {
   "cell_type": "code",
   "execution_count": 3,
   "metadata": {},
   "outputs": [],
   "source": [
    "import xgboost as xgb\n",
    "\n",
    "train = xgb.DMatrix(X_train, label=y_train)\n",
    "test = xgb.DMatrix(X_test, label=y_test)"
   ]
  },
  {
   "cell_type": "markdown",
   "metadata": {},
   "source": [
    "Now we'll define our hyperparameters. We're choosing softmax since this is a multiple classification problem, but the other parameters should ideally be tuned through experimentation."
   ]
  },
  {
   "cell_type": "code",
   "execution_count": 4,
   "metadata": {},
   "outputs": [],
   "source": [
    "param = {\n",
    "    'max_depth': 4,\n",
    "    'eta': 0.3,\n",
    "    'objective': 'multi:softmax',\n",
    "    'num_class': 3} \n",
    "epochs = 10 "
   ]
  },
  {
   "cell_type": "markdown",
   "metadata": {},
   "source": [
    "Let's go ahead and train our model using these parameters as a first guess."
   ]
  },
  {
   "cell_type": "code",
   "execution_count": 5,
   "metadata": {},
   "outputs": [],
   "source": [
    "model = xgb.train(param, train, epochs)"
   ]
  },
  {
   "cell_type": "markdown",
   "metadata": {},
   "source": [
    "Now we'll use the trained model to predict classifications for the data we set aside for testing. Each classification number we get back corresponds to a specific species of Iris."
   ]
  },
  {
   "cell_type": "code",
   "execution_count": 6,
   "metadata": {},
   "outputs": [],
   "source": [
    "predictions = model.predict(test)"
   ]
  },
  {
   "cell_type": "code",
   "execution_count": 7,
   "metadata": {},
   "outputs": [
    {
     "name": "stdout",
     "output_type": "stream",
     "text": [
      "[2. 1. 0. 2. 0. 2. 0. 1. 1. 1. 2. 1. 1. 1. 1. 0. 1. 1. 0. 0. 2. 1. 0. 0.\n",
      " 2. 0. 0. 1. 1. 0.]\n"
     ]
    }
   ],
   "source": [
    "print(predictions)"
   ]
  },
  {
   "cell_type": "markdown",
   "metadata": {},
   "source": [
    "Let's measure the accuracy on the test data..."
   ]
  },
  {
   "cell_type": "code",
   "execution_count": 8,
   "metadata": {},
   "outputs": [
    {
     "data": {
      "text/plain": [
       "1.0"
      ]
     },
     "execution_count": 8,
     "metadata": {},
     "output_type": "execute_result"
    }
   ],
   "source": [
    "from sklearn.metrics import accuracy_score\n",
    "\n",
    "accuracy_score(y_test, predictions)"
   ]
  },
  {
   "cell_type": "markdown",
   "metadata": {},
   "source": [
    "Holy crow! It's perfect, and that's just with us guessing as to the best hyperparameters!\n",
    "\n",
    "Normally I'd have you experiment to find better hyperparameters as an activity, but you can't improve on those results. Instead, see what it takes to make the results worse! How few epochs (iterations) can I get away with? How low can I set the max_depth? Basically try to optimize the simplicity and performance of the model, now that you already have perfect accuracy."
   ]
  },
  {
   "cell_type": "code",
   "execution_count": null,
   "metadata": {},
   "outputs": [],
   "source": []
  }
 ],
 "metadata": {
  "kernelspec": {
   "display_name": "Python 3",
   "language": "python",
   "name": "python3"
  },
  "language_info": {
   "codemirror_mode": {
    "name": "ipython",
    "version": 3
   },
   "file_extension": ".py",
   "mimetype": "text/x-python",
   "name": "python",
   "nbconvert_exporter": "python",
   "pygments_lexer": "ipython3",
   "version": "3.7.6"
  },
  "varInspector": {
   "cols": {
    "lenName": 16,
    "lenType": 16,
    "lenVar": 40
   },
   "kernels_config": {
    "python": {
     "delete_cmd_postfix": "",
     "delete_cmd_prefix": "del ",
     "library": "var_list.py",
     "varRefreshCmd": "print(var_dic_list())"
    },
    "r": {
     "delete_cmd_postfix": ") ",
     "delete_cmd_prefix": "rm(",
     "library": "var_list.r",
     "varRefreshCmd": "cat(var_dic_list()) "
    }
   },
   "types_to_exclude": [
    "module",
    "function",
    "builtin_function_or_method",
    "instance",
    "_Feature"
   ],
   "window_display": false
  }
 },
 "nbformat": 4,
 "nbformat_minor": 2
}
