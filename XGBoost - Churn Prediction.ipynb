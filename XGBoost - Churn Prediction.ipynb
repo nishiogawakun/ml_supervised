{
 "cells": [
  {
   "cell_type": "code",
   "execution_count": 1,
   "metadata": {},
   "outputs": [],
   "source": [
    "import pandas as pd"
   ]
  },
  {
   "cell_type": "code",
   "execution_count": 18,
   "metadata": {},
   "outputs": [],
   "source": [
    "churn_df = pd.read_csv('/Users/richardwestbrook/Library/Mobile Documents/com~apple~CloudDocs/Learning/Projects/Churn_Modelling.csv')"
   ]
  },
  {
   "cell_type": "code",
   "execution_count": 19,
   "metadata": {},
   "outputs": [],
   "source": [
    "churn_df = churn_df.drop(['RowNumber','CustomerId','Surname'], axis=1)"
   ]
  },
  {
   "cell_type": "code",
   "execution_count": 20,
   "metadata": {},
   "outputs": [],
   "source": [
    "cat_feats = ['Geography','Gender']\n",
    "churn_df = pd.get_dummies(churn_df,columns=cat_feats,drop_first=True)"
   ]
  },
  {
   "cell_type": "code",
   "execution_count": 21,
   "metadata": {},
   "outputs": [],
   "source": [
    "Y = churn_df['Exited']\n",
    "X = churn_df.drop('Exited', axis=1)"
   ]
  },
  {
   "cell_type": "code",
   "execution_count": 22,
   "metadata": {},
   "outputs": [],
   "source": [
    "from sklearn.model_selection import train_test_split\n",
    "\n",
    "X_train, X_test, y_train, y_test = train_test_split(X, Y, test_size=0.2, random_state=0)"
   ]
  },
  {
   "cell_type": "code",
   "execution_count": 23,
   "metadata": {},
   "outputs": [
    {
     "data": {
      "text/plain": [
       "(      CreditScore  Age  Tenure    Balance  NumOfProducts  HasCrCard  \\\n",
       " 7389          667   34       5       0.00              2          1   \n",
       " 9275          427   42       1   75681.52              1          1   \n",
       " 2995          535   29       2  112367.34              1          1   \n",
       " 5316          654   40       5  105683.63              1          1   \n",
       " 356           850   57       8  126776.30              2          1   \n",
       " ...           ...  ...     ...        ...            ...        ...   \n",
       " 9225          594   32       4  120074.97              2          1   \n",
       " 4859          794   22       4  114440.24              1          1   \n",
       " 3264          738   35       5  161274.05              2          1   \n",
       " 9845          590   38       9       0.00              2          1   \n",
       " 2732          623   48       1  108076.33              1          1   \n",
       " \n",
       "       IsActiveMember  EstimatedSalary  Geography_Germany  Geography_Spain  \\\n",
       " 7389               0        163830.64                  0                1   \n",
       " 9275               1         57098.00                  1                0   \n",
       " 2995               0        185630.76                  0                0   \n",
       " 5316               0        173617.09                  0                1   \n",
       " 356                1        132298.49                  0                1   \n",
       " ...              ...              ...                ...              ...   \n",
       " 9225               1        162961.79                  1                0   \n",
       " 4859               1        107753.07                  0                1   \n",
       " 3264               0        181429.87                  0                0   \n",
       " 9845               1        148750.16                  0                1   \n",
       " 2732               0        118855.26                  1                0   \n",
       " \n",
       "       Gender_Male  \n",
       " 7389            0  \n",
       " 9275            1  \n",
       " 2995            0  \n",
       " 5316            1  \n",
       " 356             0  \n",
       " ...           ...  \n",
       " 9225            0  \n",
       " 4859            0  \n",
       " 3264            1  \n",
       " 9845            0  \n",
       " 2732            0  \n",
       " \n",
       " [8000 rows x 11 columns],\n",
       "       CreditScore  Age  Tenure    Balance  NumOfProducts  HasCrCard  \\\n",
       " 9394          597   35       8  131101.04              1          1   \n",
       " 898           523   40       2  102967.41              1          1   \n",
       " 2398          706   42       8   95386.82              1          1   \n",
       " 5906          788   32       4  112079.58              1          0   \n",
       " 2343          706   38       5  163034.82              2          1   \n",
       " ...           ...  ...     ...        ...            ...        ...   \n",
       " 1037          625   24       1       0.00              2          1   \n",
       " 2899          586   35       7       0.00              2          1   \n",
       " 9549          578   36       1  157267.95              2          1   \n",
       " 2740          650   34       4  142393.11              1          1   \n",
       " 6690          573   30       8  127406.50              1          1   \n",
       " \n",
       "       IsActiveMember  EstimatedSalary  Geography_Germany  Geography_Spain  \\\n",
       " 9394               1        192852.67                  1                0   \n",
       " 898                0        128702.10                  0                0   \n",
       " 2398               1         75732.25                  0                1   \n",
       " 5906               0         89368.59                  0                0   \n",
       " 2343               1        135662.17                  1                0   \n",
       " ...              ...              ...                ...              ...   \n",
       " 1037               1        180969.55                  0                0   \n",
       " 2899               0         70760.69                  0                0   \n",
       " 9549               0        141533.19                  0                1   \n",
       " 2740               1         11276.48                  1                0   \n",
       " 6690               0        192950.60                  1                0   \n",
       " \n",
       "       Gender_Male  \n",
       " 9394            0  \n",
       " 898             0  \n",
       " 2398            0  \n",
       " 5906            1  \n",
       " 2343            1  \n",
       " ...           ...  \n",
       " 1037            0  \n",
       " 2899            0  \n",
       " 9549            1  \n",
       " 2740            1  \n",
       " 6690            1  \n",
       " \n",
       " [2000 rows x 11 columns],\n",
       " 7389    0\n",
       " 9275    0\n",
       " 2995    0\n",
       " 5316    0\n",
       " 356     0\n",
       "        ..\n",
       " 9225    0\n",
       " 4859    0\n",
       " 3264    0\n",
       " 9845    0\n",
       " 2732    1\n",
       " Name: Exited, Length: 8000, dtype: int64,\n",
       " 9394    0\n",
       " 898     1\n",
       " 2398    0\n",
       " 5906    0\n",
       " 2343    0\n",
       "        ..\n",
       " 1037    0\n",
       " 2899    0\n",
       " 9549    0\n",
       " 2740    0\n",
       " 6690    0\n",
       " Name: Exited, Length: 2000, dtype: int64)"
      ]
     },
     "execution_count": 23,
     "metadata": {},
     "output_type": "execute_result"
    }
   ],
   "source": [
    "X_train, X_test, y_train, y_test"
   ]
  },
  {
   "cell_type": "code",
   "execution_count": 26,
   "metadata": {},
   "outputs": [],
   "source": [
    "import xgboost as xgb\n",
    "\n",
    "train = xgb.DMatrix(X_train, label=y_train)\n",
    "test = xgb.DMatrix(X_test, label=y_test)"
   ]
  },
  {
   "cell_type": "code",
   "execution_count": 96,
   "metadata": {},
   "outputs": [],
   "source": [
    "param = {\n",
    "    'max_depth': 6,\n",
    "    'eta': 0.1,\n",
    "    'objective': 'multi:softmax',\n",
    "    'num_class': 4} \n",
    "epochs = 10"
   ]
  },
  {
   "cell_type": "code",
   "execution_count": 97,
   "metadata": {},
   "outputs": [
    {
     "name": "stdout",
     "output_type": "stream",
     "text": [
      "[22:08:21] WARNING: /Users/travis/build/dmlc/xgboost/src/learner.cc:1061: Starting in XGBoost 1.3.0, the default evaluation metric used with the objective 'multi:softmax' was changed from 'merror' to 'mlogloss'. Explicitly set eval_metric if you'd like to restore the old behavior.\n"
     ]
    }
   ],
   "source": [
    "model = xgb.train(param, train, epochs)"
   ]
  },
  {
   "cell_type": "code",
   "execution_count": 98,
   "metadata": {},
   "outputs": [],
   "source": [
    "predictions = model.predict(test)"
   ]
  },
  {
   "cell_type": "code",
   "execution_count": 99,
   "metadata": {},
   "outputs": [
    {
     "data": {
      "text/plain": [
       "0.8685"
      ]
     },
     "execution_count": 99,
     "metadata": {},
     "output_type": "execute_result"
    }
   ],
   "source": [
    "from sklearn.metrics import accuracy_score\n",
    "\n",
    "accuracy_score(y_test, predictions)"
   ]
  },
  {
   "cell_type": "code",
   "execution_count": null,
   "metadata": {},
   "outputs": [],
   "source": []
  }
 ],
 "metadata": {
  "kernelspec": {
   "display_name": "Python 3",
   "language": "python",
   "name": "python3"
  },
  "language_info": {
   "codemirror_mode": {
    "name": "ipython",
    "version": 3
   },
   "file_extension": ".py",
   "mimetype": "text/x-python",
   "name": "python",
   "nbconvert_exporter": "python",
   "pygments_lexer": "ipython3",
   "version": "3.8.5"
  },
  "varInspector": {
   "cols": {
    "lenName": 16,
    "lenType": 16,
    "lenVar": 40
   },
   "kernels_config": {
    "python": {
     "delete_cmd_postfix": "",
     "delete_cmd_prefix": "del ",
     "library": "var_list.py",
     "varRefreshCmd": "print(var_dic_list())"
    },
    "r": {
     "delete_cmd_postfix": ") ",
     "delete_cmd_prefix": "rm(",
     "library": "var_list.r",
     "varRefreshCmd": "cat(var_dic_list()) "
    }
   },
   "types_to_exclude": [
    "module",
    "function",
    "builtin_function_or_method",
    "instance",
    "_Feature"
   ],
   "window_display": false
  }
 },
 "nbformat": 4,
 "nbformat_minor": 2
}
